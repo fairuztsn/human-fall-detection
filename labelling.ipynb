{
 "cells": [
  {
   "cell_type": "code",
   "execution_count": 1,
   "metadata": {},
   "outputs": [],
   "source": [
    "from PIL import Image\n",
    "import os"
   ]
  },
  {
   "cell_type": "code",
   "execution_count": 2,
   "metadata": {},
   "outputs": [],
   "source": [
    "fall_types = ['backward_falls', 'forward_falls', 'left_falls', 'right_falls', 'sitting_falls', 'standing_falls']\n",
    "non_fall_types =  ['jumping', 'laying', 'picking', 'squat', 'stretching' , 'walking']"
   ]
  },
  {
   "cell_type": "code",
   "execution_count": 3,
   "metadata": {},
   "outputs": [],
   "source": [
    "def get_images():\n",
    "    file_paths = []\n",
    "    # labels = []\n",
    "    \n",
    "    train_dir = os.path.join(\".\", \"data\", \"train\")\n",
    "    subjects = [d for d in os.listdir(train_dir) if os.path.isdir(os.path.join(train_dir, d))]\n",
    "    \n",
    "    for subject in subjects:\n",
    "        subject_path = os.path.join(train_dir, subject)\n",
    "        subject_id = subject.split('-')[-1]  # Extract subject ID from folder name\n",
    "        \n",
    "        # Fall data\n",
    "        fall_dir = os.path.join(subject_path, 'fall')\n",
    "        for fall_type in fall_types:\n",
    "            fall_type_dir = os.path.join(fall_dir, f\"{subject_id}_{fall_type}\")\n",
    "            if os.path.exists(fall_type_dir):\n",
    "                for file in os.listdir(fall_type_dir):\n",
    "                    file_paths.append(os.path.join(fall_type_dir, file))\n",
    "                    # labels.append(1)  # Label 1 for fall\n",
    "        \n",
    "        # Non-fall data\n",
    "        non_fall_dir = os.path.join(subject_path, 'non_fall')\n",
    "        for non_fall_type in non_fall_types:\n",
    "            non_fall_type_dir = os.path.join(non_fall_dir, f\"{subject_id}_{non_fall_type}\")\n",
    "            if os.path.exists(non_fall_type_dir):\n",
    "                for file in os.listdir(non_fall_type_dir):\n",
    "                    file_paths.append(os.path.join(non_fall_type_dir, file))\n",
    "                    # labels.append(0)  # Label 0 for non-fall\n",
    "\n",
    "    return file_paths#, labels"
   ]
  },
  {
   "cell_type": "code",
   "execution_count": 4,
   "metadata": {},
   "outputs": [
    {
     "data": {
      "text/plain": [
       "'There are 4294 images in total.'"
      ]
     },
     "execution_count": 4,
     "metadata": {},
     "output_type": "execute_result"
    }
   ],
   "source": [
    "images = get_images()\n",
    "\n",
    "f\"There are {len(images)} images in total.\""
   ]
  },
  {
   "cell_type": "code",
   "execution_count": 5,
   "metadata": {},
   "outputs": [],
   "source": [
    "from ultralytics import YOLO"
   ]
  },
  {
   "cell_type": "code",
   "execution_count": 6,
   "metadata": {},
   "outputs": [
    {
     "name": "stderr",
     "output_type": "stream",
     "text": [
      "c:\\Users\\tsfai\\Projects\\data-slayer-2.0\\venv\\Lib\\site-packages\\ultralytics\\nn\\tasks.py:714: FutureWarning: You are using `torch.load` with `weights_only=False` (the current default value), which uses the default pickle module implicitly. It is possible to construct malicious pickle data which will execute arbitrary code during unpickling (See https://github.com/pytorch/pytorch/blob/main/SECURITY.md#untrusted-models for more details). In a future release, the default value for `weights_only` will be flipped to `True`. This limits the functions that could be executed during unpickling. Arbitrary objects will no longer be allowed to be loaded via this mode unless they are explicitly allowlisted by the user via `torch.serialization.add_safe_globals`. We recommend you start setting `weights_only=True` for any use case where you don't have full control of the loaded file. Please open an issue on GitHub for any issues related to this experimental feature.\n",
      "  ckpt = torch.load(file, map_location=\"cpu\")\n"
     ]
    }
   ],
   "source": [
    "model = YOLO(os.path.join(\".\", \"weights\", \"noorkhokhar99\", \"fall_det_1.pt\"))"
   ]
  },
  {
   "cell_type": "code",
   "execution_count": null,
   "metadata": {},
   "outputs": [],
   "source": [
    "image_paths, labels, confidence_levels = [], [], []\n",
    "\n",
    "for i, image in enumerate(images):\n",
    "    image_paths.append(image)\n",
    "    results = model(image)\n",
    "\n",
    "    is_fall = int(len(results[0].boxes) > 0)\n",
    "    labels.append(is_fall)\n",
    "\n",
    "    if is_fall:\n",
    "        confidence_levels.append(results[0].boxes[0].conf)\n",
    "    else:\n",
    "        confidence_levels.append(0)\n",
    "        "
   ]
  },
  {
   "cell_type": "code",
   "execution_count": 18,
   "metadata": {},
   "outputs": [
    {
     "data": {
      "text/plain": [
       "(['.\\\\data\\\\train\\\\subject-1\\\\fall\\\\1_backward_falls\\\\frame001.jpg',\n",
       "  '.\\\\data\\\\train\\\\subject-1\\\\fall\\\\1_backward_falls\\\\frame002.jpg',\n",
       "  '.\\\\data\\\\train\\\\subject-1\\\\fall\\\\1_backward_falls\\\\frame003.jpg',\n",
       "  '.\\\\data\\\\train\\\\subject-1\\\\fall\\\\1_backward_falls\\\\frame004.jpg',\n",
       "  '.\\\\data\\\\train\\\\subject-1\\\\fall\\\\1_backward_falls\\\\frame005.jpg'],\n",
       " [0, 0, 1, 1, 0],\n",
       " [0, 0, tensor([0.4449]), tensor([0.6165]), 0])"
      ]
     },
     "execution_count": 18,
     "metadata": {},
     "output_type": "execute_result"
    }
   ],
   "source": [
    "image_paths[:5], labels[:5], confidence_levels[:5]"
   ]
  },
  {
   "cell_type": "code",
   "execution_count": 21,
   "metadata": {},
   "outputs": [],
   "source": [
    "confidence_levels = [float(item) if isinstance(item, (int, float)) else float(item.item()) for item in confidence_levels]"
   ]
  },
  {
   "cell_type": "code",
   "execution_count": null,
   "metadata": {},
   "outputs": [],
   "source": [
    "import pandas as pd"
   ]
  },
  {
   "cell_type": "code",
   "execution_count": 25,
   "metadata": {},
   "outputs": [
    {
     "data": {
      "text/html": [
       "<div>\n",
       "<style scoped>\n",
       "    .dataframe tbody tr th:only-of-type {\n",
       "        vertical-align: middle;\n",
       "    }\n",
       "\n",
       "    .dataframe tbody tr th {\n",
       "        vertical-align: top;\n",
       "    }\n",
       "\n",
       "    .dataframe thead th {\n",
       "        text-align: right;\n",
       "    }\n",
       "</style>\n",
       "<table border=\"1\" class=\"dataframe\">\n",
       "  <thead>\n",
       "    <tr style=\"text-align: right;\">\n",
       "      <th></th>\n",
       "      <th>path</th>\n",
       "      <th>label</th>\n",
       "      <th>conf</th>\n",
       "    </tr>\n",
       "  </thead>\n",
       "  <tbody>\n",
       "    <tr>\n",
       "      <th>0</th>\n",
       "      <td>.\\data\\train\\subject-1\\fall\\1_backward_falls\\f...</td>\n",
       "      <td>0</td>\n",
       "      <td>0.000000</td>\n",
       "    </tr>\n",
       "    <tr>\n",
       "      <th>1</th>\n",
       "      <td>.\\data\\train\\subject-1\\fall\\1_backward_falls\\f...</td>\n",
       "      <td>0</td>\n",
       "      <td>0.000000</td>\n",
       "    </tr>\n",
       "    <tr>\n",
       "      <th>2</th>\n",
       "      <td>.\\data\\train\\subject-1\\fall\\1_backward_falls\\f...</td>\n",
       "      <td>1</td>\n",
       "      <td>0.444923</td>\n",
       "    </tr>\n",
       "    <tr>\n",
       "      <th>3</th>\n",
       "      <td>.\\data\\train\\subject-1\\fall\\1_backward_falls\\f...</td>\n",
       "      <td>1</td>\n",
       "      <td>0.616470</td>\n",
       "    </tr>\n",
       "    <tr>\n",
       "      <th>4</th>\n",
       "      <td>.\\data\\train\\subject-1\\fall\\1_backward_falls\\f...</td>\n",
       "      <td>0</td>\n",
       "      <td>0.000000</td>\n",
       "    </tr>\n",
       "  </tbody>\n",
       "</table>\n",
       "</div>"
      ],
      "text/plain": [
       "                                                path  label      conf\n",
       "0  .\\data\\train\\subject-1\\fall\\1_backward_falls\\f...      0  0.000000\n",
       "1  .\\data\\train\\subject-1\\fall\\1_backward_falls\\f...      0  0.000000\n",
       "2  .\\data\\train\\subject-1\\fall\\1_backward_falls\\f...      1  0.444923\n",
       "3  .\\data\\train\\subject-1\\fall\\1_backward_falls\\f...      1  0.616470\n",
       "4  .\\data\\train\\subject-1\\fall\\1_backward_falls\\f...      0  0.000000"
      ]
     },
     "execution_count": 25,
     "metadata": {},
     "output_type": "execute_result"
    }
   ],
   "source": [
    "data_train = pd.DataFrame({\n",
    "    'path': image_paths,\n",
    "    'label': labels,\n",
    "    'conf': confidence_levels\n",
    "})\n",
    "\n",
    "data_train.head()"
   ]
  },
  {
   "cell_type": "code",
   "execution_count": 26,
   "metadata": {},
   "outputs": [],
   "source": [
    "data_train.to_csv(os.path.join(\".\", \"data\", \"data_train.csv\"), index=False)"
   ]
  }
 ],
 "metadata": {
  "kernelspec": {
   "display_name": "venv",
   "language": "python",
   "name": "python3"
  },
  "language_info": {
   "codemirror_mode": {
    "name": "ipython",
    "version": 3
   },
   "file_extension": ".py",
   "mimetype": "text/x-python",
   "name": "python",
   "nbconvert_exporter": "python",
   "pygments_lexer": "ipython3",
   "version": "3.12.8"
  }
 },
 "nbformat": 4,
 "nbformat_minor": 2
}
