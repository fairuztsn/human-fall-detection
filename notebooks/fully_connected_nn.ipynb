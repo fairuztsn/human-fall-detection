{
 "cells": [
  {
   "cell_type": "code",
   "execution_count": 134,
   "metadata": {},
   "outputs": [],
   "source": [
    "import torch\n",
    "from torch import nn\n",
    "import sys\n",
    "import os\n",
    "import pandas as pd\n",
    "import matplotlib.pyplot as plt"
   ]
  },
  {
   "cell_type": "code",
   "execution_count": 4,
   "metadata": {},
   "outputs": [],
   "source": [
    "sys.path.append(os.path.join(os.getcwd(), \"..\"))"
   ]
  },
  {
   "cell_type": "code",
   "execution_count": 14,
   "metadata": {},
   "outputs": [
    {
     "data": {
      "text/html": [
       "<div>\n",
       "<style scoped>\n",
       "    .dataframe tbody tr th:only-of-type {\n",
       "        vertical-align: middle;\n",
       "    }\n",
       "\n",
       "    .dataframe tbody tr th {\n",
       "        vertical-align: top;\n",
       "    }\n",
       "\n",
       "    .dataframe thead th {\n",
       "        text-align: right;\n",
       "    }\n",
       "</style>\n",
       "<table border=\"1\" class=\"dataframe\">\n",
       "  <thead>\n",
       "    <tr style=\"text-align: right;\">\n",
       "      <th></th>\n",
       "      <th>path</th>\n",
       "      <th>label</th>\n",
       "      <th>conf</th>\n",
       "      <th>revalidated_manually</th>\n",
       "    </tr>\n",
       "  </thead>\n",
       "  <tbody>\n",
       "    <tr>\n",
       "      <th>0</th>\n",
       "      <td>.\\data\\train\\subject-1\\fall\\1_backward_falls\\f...</td>\n",
       "      <td>0</td>\n",
       "      <td>0.000000</td>\n",
       "      <td>1</td>\n",
       "    </tr>\n",
       "    <tr>\n",
       "      <th>1</th>\n",
       "      <td>.\\data\\train\\subject-1\\fall\\1_backward_falls\\f...</td>\n",
       "      <td>0</td>\n",
       "      <td>0.000000</td>\n",
       "      <td>1</td>\n",
       "    </tr>\n",
       "    <tr>\n",
       "      <th>2</th>\n",
       "      <td>.\\data\\train\\subject-1\\fall\\1_backward_falls\\f...</td>\n",
       "      <td>1</td>\n",
       "      <td>0.444923</td>\n",
       "      <td>1</td>\n",
       "    </tr>\n",
       "    <tr>\n",
       "      <th>3</th>\n",
       "      <td>.\\data\\train\\subject-1\\fall\\1_backward_falls\\f...</td>\n",
       "      <td>1</td>\n",
       "      <td>0.616470</td>\n",
       "      <td>1</td>\n",
       "    </tr>\n",
       "    <tr>\n",
       "      <th>4</th>\n",
       "      <td>.\\data\\train\\subject-1\\fall\\1_backward_falls\\f...</td>\n",
       "      <td>0</td>\n",
       "      <td>0.000000</td>\n",
       "      <td>1</td>\n",
       "    </tr>\n",
       "  </tbody>\n",
       "</table>\n",
       "</div>"
      ],
      "text/plain": [
       "                                                path  ...  revalidated_manually\n",
       "0  .\\data\\train\\subject-1\\fall\\1_backward_falls\\f...  ...                     1\n",
       "1  .\\data\\train\\subject-1\\fall\\1_backward_falls\\f...  ...                     1\n",
       "2  .\\data\\train\\subject-1\\fall\\1_backward_falls\\f...  ...                     1\n",
       "3  .\\data\\train\\subject-1\\fall\\1_backward_falls\\f...  ...                     1\n",
       "4  .\\data\\train\\subject-1\\fall\\1_backward_falls\\f...  ...                     1\n",
       "\n",
       "[5 rows x 4 columns]"
      ]
     },
     "execution_count": 14,
     "metadata": {},
     "output_type": "execute_result"
    }
   ],
   "source": [
    "data_train = pd.read_csv(os.path.join(\"..\", \"data\", \"revalidated\", \"data_train_f_001.csv\"))\n",
    "data_train.head()"
   ]
  },
  {
   "cell_type": "code",
   "execution_count": 9,
   "metadata": {},
   "outputs": [],
   "source": [
    "from transformer import PoseKeypointsTransformer\n",
    "transformer = PoseKeypointsTransformer(with_visibility=False)"
   ]
  },
  {
   "cell_type": "code",
   "execution_count": 19,
   "metadata": {},
   "outputs": [],
   "source": [
    "keypoints_list = transformer(image_paths=data_train.iloc[:, 0].values)"
   ]
  },
  {
   "cell_type": "code",
   "execution_count": 22,
   "metadata": {},
   "outputs": [],
   "source": [
    "torch.save(keypoints_list, os.path.join(\"..\", \"data\", \"keypoints\", \"keypoints_tensor.pt\"))"
   ]
  },
  {
   "cell_type": "code",
   "execution_count": 52,
   "metadata": {},
   "outputs": [
    {
     "name": "stderr",
     "output_type": "stream",
     "text": [
      "C:\\Users\\tsfai\\AppData\\Local\\Temp\\ipykernel_32276\\266390309.py:1: FutureWarning: You are using `torch.load` with `weights_only=False` (the current default value), which uses the default pickle module implicitly. It is possible to construct malicious pickle data which will execute arbitrary code during unpickling (See https://github.com/pytorch/pytorch/blob/main/SECURITY.md#untrusted-models for more details). In a future release, the default value for `weights_only` will be flipped to `True`. This limits the functions that could be executed during unpickling. Arbitrary objects will no longer be allowed to be loaded via this mode unless they are explicitly allowlisted by the user via `torch.serialization.add_safe_globals`. We recommend you start setting `weights_only=True` for any use case where you don't have full control of the loaded file. Please open an issue on GitHub for any issues related to this experimental feature.\n",
      "  list_of_tensors = torch.load(os.path.join(\"..\", \"data\", \"keypoints\", \"keypoints_tensor.pt\"))\n"
     ]
    }
   ],
   "source": [
    "list_of_tensors = torch.load(os.path.join(\"..\", \"data\", \"keypoints\", \"keypoints_tensor.pt\"))\n",
    "\n",
    "max_keypoints = 99\n",
    "padded_keypoints = []\n",
    "masks = []\n",
    "\n",
    "for tensor in list_of_tensors:\n",
    "    mask = torch.ones(max_keypoints)  \n",
    "    \n",
    "    if tensor.size(0) < max_keypoints:\n",
    "        padding = torch.zeros(max_keypoints - tensor.size(0), dtype=torch.float32)\n",
    "        tensor = torch.cat([tensor, padding], dim=0)\n",
    "        mask[tensor.size(0):] = 0  \n",
    "    \n",
    "    padded_keypoints.append(tensor)\n",
    "    masks.append(mask)\n",
    "\n",
    "keypoints_tensor = torch.stack(padded_keypoints, dim=0)\n",
    "mask_tensor = torch.stack(masks, dim=0)\n",
    "labels = torch.tensor(data_train['label'].values)"
   ]
  },
  {
   "cell_type": "code",
   "execution_count": 55,
   "metadata": {},
   "outputs": [
    {
     "name": "stdout",
     "output_type": "stream",
     "text": [
      "Train dataset size: 3435\n",
      "Validation dataset size: 859\n"
     ]
    }
   ],
   "source": [
    "from torch.utils.data import DataLoader, TensorDataset, random_split\n",
    "\n",
    "dataset = TensorDataset(keypoints_tensor, labels)\n",
    "train_size = int(0.8 * len(dataset))\n",
    "val_size = len(dataset) - train_size\n",
    "\n",
    "train_dataset, val_dataset = random_split(dataset, [train_size, val_size])\n",
    "\n",
    "train_loader = DataLoader(train_dataset, batch_size=32, shuffle=True)\n",
    "val_loader = DataLoader(val_dataset, batch_size=32, shuffle=False)\n",
    "\n",
    "print(f\"Train dataset size: {len(train_dataset)}\")\n",
    "print(f\"Validation dataset size: {len(val_dataset)}\")"
   ]
  },
  {
   "cell_type": "code",
   "execution_count": 129,
   "metadata": {},
   "outputs": [],
   "source": [
    "class FallDetectionModel(nn.Module):\n",
    "    def __init__(self, input_size, hidden_size=128):\n",
    "        super(FallDetectionModel, self).__init__()\n",
    "        self.fc1 = nn.Linear(input_size, hidden_size)\n",
    "        self.fc2 = nn.Linear(hidden_size, 64)\n",
    "        self.fc3 = nn.Linear(64, 1)  \n",
    "        self.sigmoid = nn.Sigmoid()  \n",
    "\n",
    "    def forward(self, x):\n",
    "        x = torch.relu(self.fc1(x))  \n",
    "        x = torch.relu(self.fc2(x))  \n",
    "        x = self.fc3(x)\n",
    "        x = self.sigmoid(x)  \n",
    "        return x\n",
    "    \n",
    "def train(model, train_loader, val_loader, optimizer, criterion, scheduler, epochs=100, make_history=False):\n",
    "    model.train()\n",
    "    history = []\n",
    "    for epoch in range(1, epochs+1):\n",
    "        running_loss = 0.0\n",
    "        \n",
    "        for inputs, labels in train_loader:\n",
    "            labels = labels.float()\n",
    "            optimizer.zero_grad()\n",
    "            outputs = model(inputs)\n",
    "            loss = criterion(outputs.squeeze(), labels)\n",
    "            loss.backward()\n",
    "            optimizer.step()\n",
    "            \n",
    "            running_loss += loss.item()\n",
    "    \n",
    "        if (epoch) % 5 == 0:\n",
    "            result_text = f\"Epoch {epoch}/{epochs}, Train Loss: {running_loss / len(train_loader)}\"\n",
    "        \n",
    "            if scheduler is not None:\n",
    "                val_acc, val_loss = evaluate(model, val_loader, criterion, ret=True, silence=True)\n",
    "                result_text += f\"Val Loss: {val_loss}, Val Accuracy: {val_acc}\"\n",
    "\n",
    "                if isinstance(scheduler, torch.optim.lr_scheduler.ReduceLROnPlateau):\n",
    "                    scheduler.step(val_loss)\n",
    "                else:\n",
    "                    scheduler.step()\n",
    "\n",
    "            print(result_text)\n",
    "\n",
    "            if make_history:\n",
    "                history.append((running_loss/len(train_loader), val_loss))\n",
    "\n",
    "    if make_history:\n",
    "        return history\n",
    "        \n",
    "\n",
    "def evaluate(model, test_loader, criterion=None, threshold=0.75, ret=False, silence=False):\n",
    "    model.eval()\n",
    "    correct = 0\n",
    "    total = 0\n",
    "    val_loss = 0\n",
    "    \n",
    "    with torch.no_grad():\n",
    "        for inputs, labels in test_loader:\n",
    "            outputs = model(inputs)\n",
    "            predicted_labels = (outputs > threshold).float()\n",
    "            \n",
    "            if criterion is not None:\n",
    "                loss = criterion(outputs.squeeze(), labels.float())\n",
    "                val_loss += loss.item() * inputs.size(0)\n",
    "\n",
    "            correct += (predicted_labels.squeeze() == labels).sum().item()\n",
    "            total += labels.size(0)\n",
    "    \n",
    "    accuracy = correct / total * 100\n",
    "\n",
    "    if not silence:\n",
    "        print(f\"Accuracy: {accuracy:.2f}%\")\n",
    "    \n",
    "    if criterion is not None:\n",
    "        avg_val_loss = val_loss / total\n",
    "        if not silence:\n",
    "            print(f\"Val Loss: {avg_val_loss:.4f}%\")\n",
    "\n",
    "    if ret and criterion is not None:\n",
    "        return accuracy, avg_val_loss\n",
    "    \n",
    "    if ret:\n",
    "        return accuracy"
   ]
  },
  {
   "cell_type": "code",
   "execution_count": 120,
   "metadata": {},
   "outputs": [],
   "source": [
    "input_size = 99\n",
    "hidden_size = 128"
   ]
  },
  {
   "cell_type": "code",
   "execution_count": 125,
   "metadata": {},
   "outputs": [],
   "source": [
    "model = FallDetectionModel(input_size=input_size, hidden_size=hidden_size)\n",
    "criterion = nn.BCELoss()\n",
    "optimizer = torch.optim.SGD(model.parameters(), lr=0.1, momentum=0.9)\n",
    "scheduler = torch.optim.lr_scheduler.ReduceLROnPlateau(optimizer, 'min', patience=5, factor=0.1)"
   ]
  },
  {
   "cell_type": "code",
   "execution_count": 130,
   "metadata": {},
   "outputs": [
    {
     "name": "stdout",
     "output_type": "stream",
     "text": [
      "Epoch 5/1000, Train Loss: 0.06850601442716585Val Loss: 0.07783989118359215, Val Accuracy: 96.27473806752037\n",
      "Epoch 10/1000, Train Loss: 0.07039775122407095Val Loss: 0.07621632029147378, Val Accuracy: 96.39115250291036\n",
      "Epoch 15/1000, Train Loss: 0.07509125639601659Val Loss: 0.07686771052034097, Val Accuracy: 96.39115250291036\n",
      "Epoch 20/1000, Train Loss: 0.0727442539624774Val Loss: 0.08567247021947667, Val Accuracy: 96.04190919674039\n",
      "Epoch 25/1000, Train Loss: 0.06767009332327655Val Loss: 0.07034235674892232, Val Accuracy: 96.62398137369034\n",
      "Epoch 30/1000, Train Loss: 0.07265562288887815Val Loss: 0.10375476067037917, Val Accuracy: 96.39115250291036\n",
      "Epoch 35/1000, Train Loss: 0.06672108771723557Val Loss: 0.079970341709218, Val Accuracy: 95.80908032596042\n",
      "Epoch 40/1000, Train Loss: 0.07132038485291627Val Loss: 0.07397021065120248, Val Accuracy: 96.39115250291036\n",
      "Epoch 45/1000, Train Loss: 0.0679305508654377Val Loss: 0.09912606697688862, Val Accuracy: 95.69266589057042\n",
      "Epoch 50/1000, Train Loss: 0.06981280530884827Val Loss: 0.09829572361825648, Val Accuracy: 96.50756693830034\n",
      "Epoch 55/1000, Train Loss: 0.07787916507758955Val Loss: 0.08992814655145749, Val Accuracy: 96.04190919674039\n",
      "Epoch 60/1000, Train Loss: 0.06367389708997943Val Loss: 0.0806020474353018, Val Accuracy: 96.27473806752037\n",
      "Epoch 65/1000, Train Loss: 0.06199006736744334Val Loss: 0.08386648829773771, Val Accuracy: 96.04190919674039\n",
      "Epoch 70/1000, Train Loss: 0.06248651230608057Val Loss: 0.08559435127060144, Val Accuracy: 96.39115250291036\n",
      "Epoch 75/1000, Train Loss: 0.061942343480411555Val Loss: 0.0950694275310868, Val Accuracy: 96.27473806752037\n",
      "Epoch 80/1000, Train Loss: 0.061374191830812684Val Loss: 0.09877488369228399, Val Accuracy: 96.39115250291036\n",
      "Epoch 85/1000, Train Loss: 0.060946510872074415Val Loss: 0.10124612885838477, Val Accuracy: 96.27473806752037\n",
      "Epoch 90/1000, Train Loss: 0.05977969080910997Val Loss: 0.10463592814708755, Val Accuracy: 96.39115250291036\n",
      "Epoch 95/1000, Train Loss: 0.059735094373103245Val Loss: 0.10504232686581101, Val Accuracy: 96.39115250291036\n",
      "Epoch 100/1000, Train Loss: 0.05986420494540857Val Loss: 0.10527516295645512, Val Accuracy: 96.39115250291036\n",
      "Epoch 105/1000, Train Loss: 0.060100283938966104Val Loss: 0.10614582802124573, Val Accuracy: 96.39115250291036\n",
      "Epoch 110/1000, Train Loss: 0.06015198704117589Val Loss: 0.10587367707726841, Val Accuracy: 96.39115250291036\n",
      "Epoch 115/1000, Train Loss: 0.06043234375656076Val Loss: 0.10705339778496584, Val Accuracy: 96.39115250291036\n",
      "Epoch 120/1000, Train Loss: 0.059563945826457194Val Loss: 0.10698107690295601, Val Accuracy: 96.39115250291036\n",
      "Epoch 125/1000, Train Loss: 0.05992812647911055Val Loss: 0.10692296556183012, Val Accuracy: 96.39115250291036\n",
      "Epoch 130/1000, Train Loss: 0.060322567307979275Val Loss: 0.10688537805491886, Val Accuracy: 96.39115250291036\n",
      "Epoch 135/1000, Train Loss: 0.05955271512292178Val Loss: 0.10699450946277456, Val Accuracy: 96.39115250291036\n",
      "Epoch 140/1000, Train Loss: 0.05955139967369195Val Loss: 0.107038995773641, Val Accuracy: 96.39115250291036\n",
      "Epoch 145/1000, Train Loss: 0.060036097642078325Val Loss: 0.10703916154689089, Val Accuracy: 96.39115250291036\n",
      "Epoch 150/1000, Train Loss: 0.05993516606341237Val Loss: 0.10705501945283832, Val Accuracy: 96.39115250291036\n",
      "Epoch 155/1000, Train Loss: 0.05953871663737371Val Loss: 0.10707035423955762, Val Accuracy: 96.39115250291036\n",
      "Epoch 160/1000, Train Loss: 0.06038120430993151Val Loss: 0.10707898726806096, Val Accuracy: 96.39115250291036\n",
      "Epoch 165/1000, Train Loss: 0.060303824491644197Val Loss: 0.10708035413735266, Val Accuracy: 96.39115250291036\n",
      "Epoch 170/1000, Train Loss: 0.05993301733431306Val Loss: 0.10708759863003307, Val Accuracy: 96.39115250291036\n",
      "Epoch 175/1000, Train Loss: 0.059947423894568204Val Loss: 0.10708456554550924, Val Accuracy: 96.39115250291036\n",
      "Epoch 180/1000, Train Loss: 0.05990767172319364Val Loss: 0.10708573489201638, Val Accuracy: 96.39115250291036\n",
      "Epoch 185/1000, Train Loss: 0.05953696321212529Val Loss: 0.10708687254536693, Val Accuracy: 96.39115250291036\n",
      "Epoch 190/1000, Train Loss: 0.05953659706640085Val Loss: 0.10708765146063426, Val Accuracy: 96.39115250291036\n",
      "Epoch 195/1000, Train Loss: 0.0603025796736871Val Loss: 0.10708877269495214, Val Accuracy: 96.39115250291036\n",
      "Epoch 200/1000, Train Loss: 0.05953646471961165Val Loss: 0.10709002276186477, Val Accuracy: 96.39115250291036\n",
      "Epoch 205/1000, Train Loss: 0.05993210791858364Val Loss: 0.10709014933066263, Val Accuracy: 96.39115250291036\n",
      "Epoch 210/1000, Train Loss: 0.059907332698792795Val Loss: 0.10709019448950766, Val Accuracy: 96.39115250291036\n",
      "Epoch 215/1000, Train Loss: 0.05953692575335649Val Loss: 0.10709019925562412, Val Accuracy: 96.39115250291036\n",
      "Epoch 220/1000, Train Loss: 0.059539961662994016Val Loss: 0.10709018408558282, Val Accuracy: 96.39115250291036\n",
      "Epoch 225/1000, Train Loss: 0.05991720466854152Val Loss: 0.1070901993293493, Val Accuracy: 96.39115250291036\n",
      "Epoch 230/1000, Train Loss: 0.05993163419591793Val Loss: 0.10709019658850708, Val Accuracy: 96.39115250291036\n",
      "Epoch 235/1000, Train Loss: 0.0595364100209384Val Loss: 0.10709019168795057, Val Accuracy: 96.39115250291036\n",
      "Epoch 240/1000, Train Loss: 0.05953640716879894Val Loss: 0.10709019168795057, Val Accuracy: 96.39115250291036\n",
      "Epoch 245/1000, Train Loss: 0.059949467782778945Val Loss: 0.10709019168795057, Val Accuracy: 96.39115250291036\n",
      "Epoch 250/1000, Train Loss: 0.059536406600939236Val Loss: 0.10709019168795057, Val Accuracy: 96.39115250291036\n",
      "Epoch 255/1000, Train Loss: 0.060697687643217556Val Loss: 0.10709019168795057, Val Accuracy: 96.39115250291036\n",
      "Epoch 260/1000, Train Loss: 0.059936679209285Val Loss: 0.10709019257265281, Val Accuracy: 96.39115250291036\n",
      "Epoch 265/1000, Train Loss: 0.060302464128013794Val Loss: 0.10709019257265281, Val Accuracy: 96.39115250291036\n",
      "Epoch 270/1000, Train Loss: 0.05993326065294066Val Loss: 0.10709019257265281, Val Accuracy: 96.39115250291036\n",
      "Epoch 275/1000, Train Loss: 0.06032685574163934Val Loss: 0.10709019257265281, Val Accuracy: 96.39115250291036\n",
      "Epoch 280/1000, Train Loss: 0.059536426950817005Val Loss: 0.10709019257265281, Val Accuracy: 96.39115250291036\n",
      "Epoch 285/1000, Train Loss: 0.0603024673901355Val Loss: 0.10709019257265281, Val Accuracy: 96.39115250291036\n",
      "Epoch 290/1000, Train Loss: 0.05953647717668294Val Loss: 0.10709019257265281, Val Accuracy: 96.39115250291036\n",
      "Epoch 295/1000, Train Loss: 0.05953641322084814Val Loss: 0.10709019257265281, Val Accuracy: 96.39115250291036\n",
      "Epoch 300/1000, Train Loss: 0.05990742908302435Val Loss: 0.10709019257265281, Val Accuracy: 96.39115250291036\n",
      "Epoch 305/1000, Train Loss: 0.05953887903966272Val Loss: 0.10709019257265281, Val Accuracy: 96.39115250291036\n",
      "Epoch 310/1000, Train Loss: 0.05990724059406434Val Loss: 0.10709019257265281, Val Accuracy: 96.39115250291036\n",
      "Epoch 315/1000, Train Loss: 0.05953650109514936Val Loss: 0.10709019271142962, Val Accuracy: 96.39115250291036\n",
      "Epoch 320/1000, Train Loss: 0.060697686555310305Val Loss: 0.10709019271142962, Val Accuracy: 96.39115250291036\n",
      "Epoch 325/1000, Train Loss: 0.0595412916500135Val Loss: 0.10709019271142962, Val Accuracy: 96.39115250291036\n",
      "Epoch 330/1000, Train Loss: 0.05954660353540036Val Loss: 0.10709019271142962, Val Accuracy: 96.39115250291036\n",
      "Epoch 335/1000, Train Loss: 0.06030246197111132Val Loss: 0.10709019271142962, Val Accuracy: 96.39115250291036\n",
      "Epoch 340/1000, Train Loss: 0.0595644366603549Val Loss: 0.10709019271142962, Val Accuracy: 96.39115250291036\n",
      "Epoch 345/1000, Train Loss: 0.059536406332731065Val Loss: 0.10709019273745028, Val Accuracy: 96.39115250291036\n",
      "Epoch 350/1000, Train Loss: 0.059907308670248044Val Loss: 0.10709019273745028, Val Accuracy: 96.39115250291036\n",
      "Epoch 355/1000, Train Loss: 0.059912364251988544Val Loss: 0.10709019273745028, Val Accuracy: 96.39115250291036\n",
      "Epoch 360/1000, Train Loss: 0.059907239325765554Val Loss: 0.10709019273745028, Val Accuracy: 96.39115250291036\n",
      "Epoch 365/1000, Train Loss: 0.06030246242786503Val Loss: 0.10709019273745028, Val Accuracy: 96.39115250291036\n",
      "Epoch 370/1000, Train Loss: 0.05993198107137022Val Loss: 0.10709019301500393, Val Accuracy: 96.39115250291036\n",
      "Epoch 375/1000, Train Loss: 0.06036725413489168Val Loss: 0.10709018857414564, Val Accuracy: 96.39115250291036\n",
      "Epoch 380/1000, Train Loss: 0.05993163054833443Val Loss: 0.10709018857414564, Val Accuracy: 96.39115250291036\n",
      "Epoch 385/1000, Train Loss: 0.059537493584979596Val Loss: 0.10709018857414564, Val Accuracy: 96.39115250291036\n",
      "Epoch 390/1000, Train Loss: 0.05953640652231439Val Loss: 0.10709018857414564, Val Accuracy: 96.39115250291036\n",
      "Epoch 395/1000, Train Loss: 0.059907239822814935Val Loss: 0.10709018857414564, Val Accuracy: 96.39115250291036\n",
      "Epoch 400/1000, Train Loss: 0.059538268815988664Val Loss: 0.1070901889904761, Val Accuracy: 96.39115250291036\n",
      "Epoch 405/1000, Train Loss: 0.05990723762076984Val Loss: 0.10709018857414564, Val Accuracy: 96.39115250291036\n",
      "Epoch 410/1000, Train Loss: 0.05993165208635031Val Loss: 0.10709020168855526, Val Accuracy: 96.39115250291036\n",
      "Epoch 415/1000, Train Loss: 0.05990905268390634Val Loss: 0.10709020168855526, Val Accuracy: 96.39115250291036\n",
      "Epoch 420/1000, Train Loss: 0.059907239820758046Val Loss: 0.10709020168855526, Val Accuracy: 96.39115250291036\n",
      "Epoch 425/1000, Train Loss: 0.05969627364215234Val Loss: 0.10709021778666654, Val Accuracy: 96.39115250291036\n",
      "Epoch 430/1000, Train Loss: 0.059536406193309424Val Loss: 0.10709021778666654, Val Accuracy: 96.39115250291036\n",
      "Epoch 435/1000, Train Loss: 0.05953640585759219Val Loss: 0.10709021778666654, Val Accuracy: 96.39115250291036\n",
      "Epoch 440/1000, Train Loss: 0.05953640638466674Val Loss: 0.10709021778666654, Val Accuracy: 96.39115250291036\n",
      "Epoch 445/1000, Train Loss: 0.06027807750653572Val Loss: 0.10709021778666654, Val Accuracy: 96.39115250291036\n",
      "Epoch 450/1000, Train Loss: 0.059536473555508736Val Loss: 0.10709021778666654, Val Accuracy: 96.39115250291036\n",
      "Epoch 455/1000, Train Loss: 0.060326924452996665Val Loss: 0.10709021778666654, Val Accuracy: 96.39115250291036\n",
      "Epoch 460/1000, Train Loss: 0.05953842094773639Val Loss: 0.10709021778666654, Val Accuracy: 96.39115250291036\n",
      "Epoch 465/1000, Train Loss: 0.059949169569540675Val Loss: 0.10709021749610256, Val Accuracy: 96.39115250291036\n",
      "Epoch 470/1000, Train Loss: 0.06041654644192291Val Loss: 0.10709021749610256, Val Accuracy: 96.39115250291036\n",
      "Epoch 475/1000, Train Loss: 0.05953643299198661Val Loss: 0.10709021749610256, Val Accuracy: 96.39115250291036\n",
      "Epoch 480/1000, Train Loss: 0.0595364093150942Val Loss: 0.10709021749610256, Val Accuracy: 96.39115250291036\n",
      "Epoch 485/1000, Train Loss: 0.059933121142815134Val Loss: 0.10709021952571358, Val Accuracy: 96.39115250291036\n",
      "Epoch 490/1000, Train Loss: 0.05954907517288019Val Loss: 0.10709021952571358, Val Accuracy: 96.39115250291036\n",
      "Epoch 495/1000, Train Loss: 0.05993162968729006Val Loss: 0.10709021989000274, Val Accuracy: 96.39115250291036\n",
      "Epoch 500/1000, Train Loss: 0.06105502808430193Val Loss: 0.10709022100021731, Val Accuracy: 96.39115250291036\n",
      "Epoch 505/1000, Train Loss: 0.05953640908510362Val Loss: 0.10709022100021731, Val Accuracy: 96.39115250291036\n",
      "Epoch 510/1000, Train Loss: 0.06069720251974576Val Loss: 0.10709022100021731, Val Accuracy: 96.39115250291036\n",
      "Epoch 515/1000, Train Loss: 0.05993163039895177Val Loss: 0.10709022211043188, Val Accuracy: 96.39115250291036\n",
      "Epoch 520/1000, Train Loss: 0.05976012731964491Val Loss: 0.10709022211043188, Val Accuracy: 96.39115250291036\n",
      "Epoch 525/1000, Train Loss: 0.05953641823133761Val Loss: 0.10709022211043188, Val Accuracy: 96.39115250291036\n",
      "Epoch 530/1000, Train Loss: 0.059536408233767366Val Loss: 0.10709022211043188, Val Accuracy: 96.39115250291036\n",
      "Epoch 535/1000, Train Loss: 0.060326855208288066Val Loss: 0.10709022211043188, Val Accuracy: 96.39115250291036\n",
      "Epoch 540/1000, Train Loss: 0.05993204731917272Val Loss: 0.10709022211043188, Val Accuracy: 96.39115250291036\n",
      "Epoch 545/1000, Train Loss: 0.0595365920389752Val Loss: 0.10709022211043188, Val Accuracy: 96.39115250291036\n",
      "Epoch 550/1000, Train Loss: 0.06038452729635232Val Loss: 0.10709022211043188, Val Accuracy: 96.39115250291036\n",
      "Epoch 555/1000, Train Loss: 0.05953971091270836Val Loss: 0.10709022211043188, Val Accuracy: 96.39115250291036\n",
      "Epoch 560/1000, Train Loss: 0.05953640617643522Val Loss: 0.10709022211043188, Val Accuracy: 96.39115250291036\n",
      "Epoch 565/1000, Train Loss: 0.05953640757348816Val Loss: 0.10709022211043188, Val Accuracy: 96.39115250291036\n",
      "Epoch 570/1000, Train Loss: 0.06106026829179133Val Loss: 0.10709022211043188, Val Accuracy: 96.39115250291036\n",
      "Epoch 575/1000, Train Loss: 0.06032685485813787Val Loss: 0.10709022211043188, Val Accuracy: 96.39115250291036\n",
      "Epoch 580/1000, Train Loss: 0.059907262386904796Val Loss: 0.10709022211043188, Val Accuracy: 96.39115250291036\n",
      "Epoch 585/1000, Train Loss: 0.05991981308669473Val Loss: 0.10709022211043188, Val Accuracy: 96.39115250291036\n",
      "Epoch 590/1000, Train Loss: 0.0603024690804535Val Loss: 0.10709022211043188, Val Accuracy: 96.39115250291036\n",
      "Epoch 595/1000, Train Loss: 0.05993282976603643Val Loss: 0.10709022211043188, Val Accuracy: 96.39115250291036\n",
      "Epoch 600/1000, Train Loss: 0.05953645232594182Val Loss: 0.10709022211043188, Val Accuracy: 96.39115250291036\n",
      "Epoch 605/1000, Train Loss: 0.05956245558439885Val Loss: 0.10709022211043188, Val Accuracy: 96.39115250291036\n",
      "Epoch 610/1000, Train Loss: 0.0599072394046137Val Loss: 0.10709022211043188, Val Accuracy: 96.39115250291036\n",
      "Epoch 615/1000, Train Loss: 0.05953640616264181Val Loss: 0.10709022211043188, Val Accuracy: 96.39115250291036\n",
      "Epoch 620/1000, Train Loss: 0.05953657740685811Val Loss: 0.10709022211043188, Val Accuracy: 96.39115250291036\n",
      "Epoch 625/1000, Train Loss: 0.05953640570015849Val Loss: 0.10709022211043188, Val Accuracy: 96.39115250291036\n",
      "Epoch 630/1000, Train Loss: 0.06072659752267437Val Loss: 0.10709022211043188, Val Accuracy: 96.39115250291036\n",
      "Epoch 635/1000, Train Loss: 0.059907643874950095Val Loss: 0.10709022211043188, Val Accuracy: 96.39115250291036\n",
      "Epoch 640/1000, Train Loss: 0.059932024516951045Val Loss: 0.10709022211043188, Val Accuracy: 96.39115250291036\n",
      "Epoch 645/1000, Train Loss: 0.05993162933172816Val Loss: 0.10709022211043188, Val Accuracy: 96.39115250291036\n",
      "Epoch 650/1000, Train Loss: 0.059615393522209265Val Loss: 0.10709022211043188, Val Accuracy: 96.39115250291036\n",
      "Epoch 655/1000, Train Loss: 0.059536405395506635Val Loss: 0.10709022211043188, Val Accuracy: 96.39115250291036\n",
      "Epoch 660/1000, Train Loss: 0.059538004014147765Val Loss: 0.10709022211043188, Val Accuracy: 96.39115250291036\n",
      "Epoch 665/1000, Train Loss: 0.05993163343539826Val Loss: 0.10709022211043188, Val Accuracy: 96.39115250291036\n",
      "Epoch 670/1000, Train Loss: 0.059536407692264065Val Loss: 0.10709022211043188, Val Accuracy: 96.39115250291036\n",
      "Epoch 675/1000, Train Loss: 0.06006710355074608Val Loss: 0.10709022211043188, Val Accuracy: 96.39115250291036\n",
      "Epoch 680/1000, Train Loss: 0.06086441891661907Val Loss: 0.10709022235329131, Val Accuracy: 96.39115250291036\n",
      "Epoch 685/1000, Train Loss: 0.05953679423720991Val Loss: 0.10709022235329131, Val Accuracy: 96.39115250291036\n",
      "Epoch 690/1000, Train Loss: 0.059597688595023034Val Loss: 0.10709022235329131, Val Accuracy: 96.39115250291036\n",
      "Epoch 695/1000, Train Loss: 0.05953640888129378Val Loss: 0.10709022235329131, Val Accuracy: 96.39115250291036\n",
      "Epoch 700/1000, Train Loss: 0.05953721865685785Val Loss: 0.10709022235329131, Val Accuracy: 96.39115250291036\n",
      "Epoch 705/1000, Train Loss: 0.059536634039112094Val Loss: 0.10709022263084496, Val Accuracy: 96.39115250291036\n",
      "Epoch 710/1000, Train Loss: 0.05953640999993292Val Loss: 0.10709021874509396, Val Accuracy: 96.39115250291036\n",
      "Epoch 715/1000, Train Loss: 0.05953647667966093Val Loss: 0.10709021874509396, Val Accuracy: 96.39115250291036\n",
      "Epoch 720/1000, Train Loss: 0.05993163102296619Val Loss: 0.10709021874509396, Val Accuracy: 96.39115250291036\n",
      "Epoch 725/1000, Train Loss: 0.05953643208985155Val Loss: 0.10709021874509396, Val Accuracy: 96.39115250291036\n",
      "Epoch 730/1000, Train Loss: 0.059596771703875596Val Loss: 0.10709021874509396, Val Accuracy: 96.39115250291036\n",
      "Epoch 735/1000, Train Loss: 0.059931632738376886Val Loss: 0.10709021874509396, Val Accuracy: 96.39115250291036\n",
      "Epoch 740/1000, Train Loss: 0.06026457921356925Val Loss: 0.10709021874509396, Val Accuracy: 96.39115250291036\n",
      "Epoch 745/1000, Train Loss: 0.06030246505044353Val Loss: 0.10709021874509396, Val Accuracy: 96.39115250291036\n",
      "Epoch 750/1000, Train Loss: 0.05953669999839214Val Loss: 0.10709021805120986, Val Accuracy: 96.39115250291036\n",
      "Epoch 755/1000, Train Loss: 0.0599122084918446Val Loss: 0.10709021805120986, Val Accuracy: 96.39115250291036\n",
      "Epoch 760/1000, Train Loss: 0.05953640810887685Val Loss: 0.10709021805120986, Val Accuracy: 96.39115250291036\n",
      "Epoch 765/1000, Train Loss: 0.05953640994474401Val Loss: 0.10709021805120986, Val Accuracy: 96.39115250291036\n",
      "Epoch 770/1000, Train Loss: 0.05953641130245223Val Loss: 0.10709021805120986, Val Accuracy: 96.39115250291036\n",
      "Epoch 775/1000, Train Loss: 0.059536407796196726Val Loss: 0.10709021805120986, Val Accuracy: 96.39115250291036\n",
      "Epoch 780/1000, Train Loss: 0.06030247721279828Val Loss: 0.10709021805120986, Val Accuracy: 96.39115250291036\n",
      "Epoch 785/1000, Train Loss: 0.06032685840065289Val Loss: 0.10709021805120986, Val Accuracy: 96.39115250291036\n",
      "Epoch 790/1000, Train Loss: 0.06033299828096393Val Loss: 0.10709021805120986, Val Accuracy: 96.39115250291036\n",
      "Epoch 795/1000, Train Loss: 0.059536410905158835Val Loss: 0.10709021805120986, Val Accuracy: 96.39115250291036\n",
      "Epoch 800/1000, Train Loss: 0.06030430463870626Val Loss: 0.10709021805120986, Val Accuracy: 96.39115250291036\n",
      "Epoch 805/1000, Train Loss: 0.059752861730834814Val Loss: 0.10709021590016912, Val Accuracy: 96.39115250291036\n",
      "Epoch 810/1000, Train Loss: 0.05997545994158894Val Loss: 0.10709021590016912, Val Accuracy: 96.39115250291036\n",
      "Epoch 815/1000, Train Loss: 0.0599327169759818Val Loss: 0.10709021590016912, Val Accuracy: 96.39115250291036\n",
      "Epoch 820/1000, Train Loss: 0.0597977187776619Val Loss: 0.10709021590016912, Val Accuracy: 96.39115250291036\n",
      "Epoch 825/1000, Train Loss: 0.05990725103093921Val Loss: 0.1070902092388817, Val Accuracy: 96.39115250291036\n",
      "Epoch 830/1000, Train Loss: 0.0599072441462559Val Loss: 0.1070902092388817, Val Accuracy: 96.39115250291036\n",
      "Epoch 835/1000, Train Loss: 0.05990060648011624Val Loss: 0.10709020812866712, Val Accuracy: 96.39115250291036\n",
      "Epoch 840/1000, Train Loss: 0.059919945126306697Val Loss: 0.10709020812866712, Val Accuracy: 96.39115250291036\n",
      "Epoch 845/1000, Train Loss: 0.05953657077684306Val Loss: 0.10709020812866712, Val Accuracy: 96.39115250291036\n",
      "Epoch 850/1000, Train Loss: 0.05990724494212271Val Loss: 0.10709020812866712, Val Accuracy: 96.39115250291036\n",
      "Epoch 855/1000, Train Loss: 0.06029072739522268Val Loss: 0.10709020812866712, Val Accuracy: 96.39115250291036\n",
      "Epoch 860/1000, Train Loss: 0.059931121449671484Val Loss: 0.10709020812866712, Val Accuracy: 96.39115250291036\n",
      "Epoch 865/1000, Train Loss: 0.059539885884940226Val Loss: 0.10709020812866712, Val Accuracy: 96.39115250291036\n",
      "Epoch 870/1000, Train Loss: 0.05991590184863459Val Loss: 0.10709020812866712, Val Accuracy: 96.39115250291036\n",
      "Epoch 875/1000, Train Loss: 0.05990723954783385Val Loss: 0.10709020812866712, Val Accuracy: 96.39115250291036\n",
      "Epoch 880/1000, Train Loss: 0.05990723830254191Val Loss: 0.10709020812866712, Val Accuracy: 96.39115250291036\n",
      "Epoch 885/1000, Train Loss: 0.05993162994957823Val Loss: 0.10709022478188569, Val Accuracy: 96.39115250291036\n",
      "Epoch 890/1000, Train Loss: 0.05953643976945218Val Loss: 0.10709022478188569, Val Accuracy: 96.39115250291036\n",
      "Epoch 895/1000, Train Loss: 0.059536407057044646Val Loss: 0.10709022478188569, Val Accuracy: 96.39115250291036\n",
      "Epoch 900/1000, Train Loss: 0.05953640820572856Val Loss: 0.10709022478188569, Val Accuracy: 96.39115250291036\n",
      "Epoch 905/1000, Train Loss: 0.059907925956496105Val Loss: 0.10709022478188569, Val Accuracy: 96.39115250291036\n",
      "Epoch 910/1000, Train Loss: 0.059545862746452474Val Loss: 0.10709022478188569, Val Accuracy: 96.39115250291036\n",
      "Epoch 915/1000, Train Loss: 0.05953640930959723Val Loss: 0.10709022478188569, Val Accuracy: 96.39115250291036\n",
      "Epoch 920/1000, Train Loss: 0.06064994150115042Val Loss: 0.10709022478188569, Val Accuracy: 96.39115250291036\n",
      "Epoch 925/1000, Train Loss: 0.0595364081646734Val Loss: 0.10709022478188569, Val Accuracy: 96.39115250291036\n",
      "Epoch 930/1000, Train Loss: 0.060302465478068154Val Loss: 0.10709022311656384, Val Accuracy: 96.39115250291036\n",
      "Epoch 935/1000, Train Loss: 0.05960263446243472Val Loss: 0.10709022311656384, Val Accuracy: 96.39115250291036\n",
      "Epoch 940/1000, Train Loss: 0.059540506493653486Val Loss: 0.10709022311656384, Val Accuracy: 96.39115250291036\n",
      "Epoch 945/1000, Train Loss: 0.05995662873437545Val Loss: 0.10709022311656384, Val Accuracy: 96.39115250291036\n",
      "Epoch 950/1000, Train Loss: 0.05953991399540984Val Loss: 0.10709022311656384, Val Accuracy: 96.39115250291036\n",
      "Epoch 955/1000, Train Loss: 0.06004727077972213Val Loss: 0.10709022311656384, Val Accuracy: 96.39115250291036\n",
      "Epoch 960/1000, Train Loss: 0.05993163506883758Val Loss: 0.10709022311656384, Val Accuracy: 96.39115250291036\n",
      "Epoch 965/1000, Train Loss: 0.06056498117140597Val Loss: 0.10709022311656384, Val Accuracy: 96.39115250291036\n",
      "Epoch 970/1000, Train Loss: 0.06051766350213307Val Loss: 0.10709022311656384, Val Accuracy: 96.39115250291036\n",
      "Epoch 975/1000, Train Loss: 0.05993170248669081Val Loss: 0.10709022311656384, Val Accuracy: 96.39115250291036\n",
      "Epoch 980/1000, Train Loss: 0.059541885664055334Val Loss: 0.10709022311656384, Val Accuracy: 96.39115250291036\n",
      "Epoch 985/1000, Train Loss: 0.05991083892635234Val Loss: 0.10709022533699297, Val Accuracy: 96.39115250291036\n",
      "Epoch 990/1000, Train Loss: 0.06032858199116028Val Loss: 0.10709022533699297, Val Accuracy: 96.39115250291036\n",
      "Epoch 995/1000, Train Loss: 0.059536405314989965Val Loss: 0.10709022533699297, Val Accuracy: 96.39115250291036\n",
      "Epoch 1000/1000, Train Loss: 0.05990723774412953Val Loss: 0.10709022533699297, Val Accuracy: 96.39115250291036\n"
     ]
    }
   ],
   "source": [
    "history = train(model, train_loader=train_loader, val_loader=val_loader, optimizer=optimizer, criterion=criterion, scheduler=scheduler, epochs=1000, make_history=True)"
   ]
  },
  {
   "cell_type": "code",
   "execution_count": 135,
   "metadata": {},
   "outputs": [
    {
     "data": {
      "image/png": "[encoded data removed]",
      "text/plain": [
       "<Figure size 1000x600 with 1 Axes>"
      ]
     },
     "metadata": {},
     "output_type": "display_data"
    }
   ],
   "source": [
    "def plot_loss(history):\n",
    "    train_losses = [x[0] for x in history]\n",
    "    val_losses = [x[1] for x in history]\n",
    "\n",
    "    plt.figure(figsize=(10, 6))\n",
    "    plt.plot(train_losses, label='Train Loss', color='blue')\n",
    "    plt.plot(val_losses, label='Validation Loss', color='red')\n",
    "\n",
    "    plt.xlabel('Epochs')\n",
    "    plt.ylabel('Loss')\n",
    "    plt.title('Train and Validation Loss over Epochs')\n",
    "    plt.legend()\n",
    "\n",
    "    plt.show()\n",
    "\n",
    "plot_loss(history)"
   ]
  },
  {
   "cell_type": "code",
   "execution_count": 131,
   "metadata": {},
   "outputs": [
    {
     "name": "stdout",
     "output_type": "stream",
     "text": [
      "Accuracy: 96.39%\n"
     ]
    }
   ],
   "source": [
    "evaluate(model, val_loader)"
   ]
  },
  {
   "cell_type": "code",
   "execution_count": 133,
   "metadata": {},
   "outputs": [
    {
     "data": {
      "text/html": [
       "<div>\n",
       "<style scoped>\n",
       "    .dataframe tbody tr th:only-of-type {\n",
       "        vertical-align: middle;\n",
       "    }\n",
       "\n",
       "    .dataframe tbody tr th {\n",
       "        vertical-align: top;\n",
       "    }\n",
       "\n",
       "    .dataframe thead th {\n",
       "        text-align: right;\n",
       "    }\n",
       "</style>\n",
       "<table border=\"1\" class=\"dataframe\">\n",
       "  <thead>\n",
       "    <tr style=\"text-align: right;\">\n",
       "      <th></th>\n",
       "      <th>id</th>\n",
       "      <th>label</th>\n",
       "    </tr>\n",
       "  </thead>\n",
       "  <tbody>\n",
       "    <tr>\n",
       "      <th>0</th>\n",
       "      <td>4a73abcd02.jpg</td>\n",
       "      <td>0</td>\n",
       "    </tr>\n",
       "    <tr>\n",
       "      <th>1</th>\n",
       "      <td>266bdb8d70.jpg</td>\n",
       "      <td>0</td>\n",
       "    </tr>\n",
       "    <tr>\n",
       "      <th>2</th>\n",
       "      <td>1389b9fb66.jpg</td>\n",
       "      <td>0</td>\n",
       "    </tr>\n",
       "    <tr>\n",
       "      <th>3</th>\n",
       "      <td>7e1c35f2e6.jpg</td>\n",
       "      <td>0</td>\n",
       "    </tr>\n",
       "    <tr>\n",
       "      <th>4</th>\n",
       "      <td>8271bebf8f.jpg</td>\n",
       "      <td>0</td>\n",
       "    </tr>\n",
       "  </tbody>\n",
       "</table>\n",
       "</div>"
      ],
      "text/plain": [
       "               id  label\n",
       "0  4a73abcd02.jpg      0\n",
       "1  266bdb8d70.jpg      0\n",
       "2  1389b9fb66.jpg      0\n",
       "3  7e1c35f2e6.jpg      0\n",
       "4  8271bebf8f.jpg      0"
      ]
     },
     "execution_count": 133,
     "metadata": {},
     "output_type": "execute_result"
    }
   ],
   "source": [
    "test_data = pd.read_csv(\"../data/sample_submission.csv\")\n",
    "test_data.head()"
   ]
  },
  {
   "cell_type": "code",
   "execution_count": 142,
   "metadata": {},
   "outputs": [],
   "source": [
    "test_features = transformer(image_paths=[os.path.join(\"data\", \"test\", path) for path in test_data.iloc[:, 0].values])"
   ]
  },
  {
   "cell_type": "code",
   "execution_count": 143,
   "metadata": {},
   "outputs": [],
   "source": [
    "max_keypoints = 99\n",
    "padded_keypoints = []\n",
    "masks = []\n",
    "\n",
    "for tensor in test_features:\n",
    "    mask = torch.ones(max_keypoints)  \n",
    "    \n",
    "    if tensor.size(0) < max_keypoints:\n",
    "        padding = torch.zeros(max_keypoints - tensor.size(0), dtype=torch.float32)\n",
    "        tensor = torch.cat([tensor, padding], dim=0)\n",
    "        mask[tensor.size(0):] = 0  \n",
    "    \n",
    "    padded_keypoints.append(tensor)\n",
    "    masks.append(mask)\n",
    "\n",
    "keypoints_tensor = torch.stack(padded_keypoints, dim=0)\n",
    "mask_tensor = torch.stack(masks, dim=0)\n",
    "labels = torch.tensor(test_data['label'].values)"
   ]
  },
  {
   "cell_type": "code",
   "execution_count": 145,
   "metadata": {},
   "outputs": [
    {
     "data": {
      "text/plain": [
       "torch.Size([2152, 99])"
      ]
     },
     "execution_count": 145,
     "metadata": {},
     "output_type": "execute_result"
    }
   ],
   "source": [
    "keypoints_tensor.shape"
   ]
  },
  {
   "cell_type": "code",
   "execution_count": 148,
   "metadata": {},
   "outputs": [],
   "source": [
    "def predict(model, features, threshold=0.75):\n",
    "    model.eval()  \n",
    "    with torch.no_grad():  \n",
    "        outputs = model(features)  \n",
    "        predicted_label = (outputs > threshold).float()\n",
    "    \n",
    "    return predicted_label"
   ]
  },
  {
   "cell_type": "code",
   "execution_count": 150,
   "metadata": {},
   "outputs": [],
   "source": [
    "predictions = predict(model, keypoints_tensor)"
   ]
  },
  {
   "cell_type": "code",
   "execution_count": 165,
   "metadata": {},
   "outputs": [],
   "source": [
    "test_data['label'] = predictions.squeeze().int()"
   ]
  },
  {
   "cell_type": "code",
   "execution_count": 166,
   "metadata": {},
   "outputs": [
    {
     "data": {
      "text/html": [
       "<div>\n",
       "<style scoped>\n",
       "    .dataframe tbody tr th:only-of-type {\n",
       "        vertical-align: middle;\n",
       "    }\n",
       "\n",
       "    .dataframe tbody tr th {\n",
       "        vertical-align: top;\n",
       "    }\n",
       "\n",
       "    .dataframe thead th {\n",
       "        text-align: right;\n",
       "    }\n",
       "</style>\n",
       "<table border=\"1\" class=\"dataframe\">\n",
       "  <thead>\n",
       "    <tr style=\"text-align: right;\">\n",
       "      <th></th>\n",
       "      <th>id</th>\n",
       "      <th>label</th>\n",
       "    </tr>\n",
       "  </thead>\n",
       "  <tbody>\n",
       "    <tr>\n",
       "      <th>0</th>\n",
       "      <td>4a73abcd02.jpg</td>\n",
       "      <td>0</td>\n",
       "    </tr>\n",
       "    <tr>\n",
       "      <th>1</th>\n",
       "      <td>266bdb8d70.jpg</td>\n",
       "      <td>0</td>\n",
       "    </tr>\n",
       "    <tr>\n",
       "      <th>2</th>\n",
       "      <td>1389b9fb66.jpg</td>\n",
       "      <td>0</td>\n",
       "    </tr>\n",
       "    <tr>\n",
       "      <th>3</th>\n",
       "      <td>7e1c35f2e6.jpg</td>\n",
       "      <td>0</td>\n",
       "    </tr>\n",
       "    <tr>\n",
       "      <th>4</th>\n",
       "      <td>8271bebf8f.jpg</td>\n",
       "      <td>0</td>\n",
       "    </tr>\n",
       "  </tbody>\n",
       "</table>\n",
       "</div>"
      ],
      "text/plain": [
       "               id  label\n",
       "0  4a73abcd02.jpg      0\n",
       "1  266bdb8d70.jpg      0\n",
       "2  1389b9fb66.jpg      0\n",
       "3  7e1c35f2e6.jpg      0\n",
       "4  8271bebf8f.jpg      0"
      ]
     },
     "execution_count": 166,
     "metadata": {},
     "output_type": "execute_result"
    }
   ],
   "source": [
    "test_data.head()"
   ]
  },
  {
   "cell_type": "code",
   "execution_count": 169,
   "metadata": {},
   "outputs": [
    {
     "data": {
      "text/plain": [
       "635"
      ]
     },
     "execution_count": 169,
     "metadata": {},
     "output_type": "execute_result"
    }
   ],
   "source": [
    "test_data['label'].sum()"
   ]
  },
  {
   "cell_type": "code",
   "execution_count": 173,
   "metadata": {},
   "outputs": [],
   "source": [
    "test_data.to_csv(\"../data/submissions/006.csv\", index=False)"
   ]
  },
  {
   "cell_type": "code",
   "execution_count": 172,
   "metadata": {},
   "outputs": [
    {
     "data": {
      "text/plain": [
       "763"
      ]
     },
     "execution_count": 172,
     "metadata": {},
     "output_type": "execute_result"
    }
   ],
   "source": [
    "pd.read_csv(\"../data/submissions/003.csv\")['label'].sum()"
   ]
  }
 ],
 "metadata": {
  "kernelspec": {
   "display_name": "venv",
   "language": "python",
   "name": "python3"
  },
  "language_info": {
   "codemirror_mode": {
    "name": "ipython",
    "version": 3
   },
   "file_extension": ".py",
   "mimetype": "text/x-python",
   "name": "python",
   "nbconvert_exporter": "python",
   "pygments_lexer": "ipython3",
   "version": "3.12.8"
  }
 },
 "nbformat": 4,
 "nbformat_minor": 2
}
