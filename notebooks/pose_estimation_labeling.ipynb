{
 "cells": [
  {
   "cell_type": "code",
   "execution_count": 27,
   "metadata": {},
   "outputs": [],
   "source": [
    "import cv2\n",
    "import mediapipe as mp\n",
    "import numpy as np\n",
    "import os\n",
    "import pandas as pd\n",
    "import matplotlib.pyplot as plt\n",
    "mp_drawing = mp.solutions.drawing_utils\n"
   ]
  },
  {
   "cell_type": "code",
   "execution_count": 6,
   "metadata": {},
   "outputs": [
    {
     "data": {
      "text/html": [
       "<div>\n",
       "<style scoped>\n",
       "    .dataframe tbody tr th:only-of-type {\n",
       "        vertical-align: middle;\n",
       "    }\n",
       "\n",
       "    .dataframe tbody tr th {\n",
       "        vertical-align: top;\n",
       "    }\n",
       "\n",
       "    .dataframe thead th {\n",
       "        text-align: right;\n",
       "    }\n",
       "</style>\n",
       "<table border=\"1\" class=\"dataframe\">\n",
       "  <thead>\n",
       "    <tr style=\"text-align: right;\">\n",
       "      <th></th>\n",
       "      <th>path</th>\n",
       "      <th>label</th>\n",
       "      <th>conf</th>\n",
       "      <th>revalidated_manually</th>\n",
       "    </tr>\n",
       "  </thead>\n",
       "  <tbody>\n",
       "    <tr>\n",
       "      <th>0</th>\n",
       "      <td>.\\data\\train\\subject-1\\fall\\1_backward_falls\\f...</td>\n",
       "      <td>0</td>\n",
       "      <td>0.000000</td>\n",
       "      <td>1</td>\n",
       "    </tr>\n",
       "    <tr>\n",
       "      <th>1</th>\n",
       "      <td>.\\data\\train\\subject-1\\fall\\1_backward_falls\\f...</td>\n",
       "      <td>0</td>\n",
       "      <td>0.000000</td>\n",
       "      <td>1</td>\n",
       "    </tr>\n",
       "    <tr>\n",
       "      <th>2</th>\n",
       "      <td>.\\data\\train\\subject-1\\fall\\1_backward_falls\\f...</td>\n",
       "      <td>1</td>\n",
       "      <td>0.444923</td>\n",
       "      <td>1</td>\n",
       "    </tr>\n",
       "    <tr>\n",
       "      <th>3</th>\n",
       "      <td>.\\data\\train\\subject-1\\fall\\1_backward_falls\\f...</td>\n",
       "      <td>1</td>\n",
       "      <td>0.616470</td>\n",
       "      <td>1</td>\n",
       "    </tr>\n",
       "    <tr>\n",
       "      <th>4</th>\n",
       "      <td>.\\data\\train\\subject-1\\fall\\1_backward_falls\\f...</td>\n",
       "      <td>0</td>\n",
       "      <td>0.000000</td>\n",
       "      <td>1</td>\n",
       "    </tr>\n",
       "  </tbody>\n",
       "</table>\n",
       "</div>"
      ],
      "text/plain": [
       "                                                path  label      conf  \\\n",
       "0  .\\data\\train\\subject-1\\fall\\1_backward_falls\\f...      0  0.000000   \n",
       "1  .\\data\\train\\subject-1\\fall\\1_backward_falls\\f...      0  0.000000   \n",
       "2  .\\data\\train\\subject-1\\fall\\1_backward_falls\\f...      1  0.444923   \n",
       "3  .\\data\\train\\subject-1\\fall\\1_backward_falls\\f...      1  0.616470   \n",
       "4  .\\data\\train\\subject-1\\fall\\1_backward_falls\\f...      0  0.000000   \n",
       "\n",
       "   revalidated_manually  \n",
       "0                     1  \n",
       "1                     1  \n",
       "2                     1  \n",
       "3                     1  \n",
       "4                     1  "
      ]
     },
     "execution_count": 6,
     "metadata": {},
     "output_type": "execute_result"
    }
   ],
   "source": [
    "data_train = pd.read_csv(os.path.join(\"..\", \"data\", \"revalidated\", \"data_train_f_001.csv\"))\n",
    "data_train.head()"
   ]
  },
  {
   "cell_type": "code",
   "execution_count": 47,
   "metadata": {},
   "outputs": [],
   "source": [
    "def get_keypoints(image_path, visualize=False):\n",
    "    mp_pose = mp.solutions.pose\n",
    "    key_points = []\n",
    "    image = cv2.imread(os.path.join(\"..\", image_path))\n",
    "    if image is None:\n",
    "        raise FileNotFoundError(f\"Image not found: {image_path}\")\n",
    "    \n",
    "    image_rgb = cv2.cvtColor(image, cv2.COLOR_BGR2RGB)\n",
    "\n",
    "    with mp_pose.Pose(min_detection_confidence=0.75, min_tracking_confidence=0.5) as pose:\n",
    "        results = pose.process(image_rgb)\n",
    "        \n",
    "        if results.pose_landmarks:\n",
    "            for idx, landmark in enumerate(results.pose_landmarks.landmark):\n",
    "                # x, y: Koordinat 2D normalisasi.\n",
    "                # z: Kedalaman relatif (persepsi 3D).\n",
    "                # visibility: Keyakinan deteksi landmark.\n",
    "                key_points.append({\n",
    "                    'id': idx,\n",
    "                    'x': landmark.x,\n",
    "                    'y': landmark.y,\n",
    "                    'z': landmark.z,\n",
    "                    'visibility': landmark.visibility\n",
    "                })\n",
    "            \n",
    "        if visualize:\n",
    "            mp_drawing.draw_landmarks(\n",
    "                image, \n",
    "                results.pose_landmarks, \n",
    "                mp_pose.POSE_CONNECTIONS,\n",
    "                mp_drawing.DrawingSpec(color=(245, 117, 66), thickness=2, circle_radius=2),\n",
    "                mp_drawing.DrawingSpec(color=(245, 66, 230), thickness=2, circle_radius=2)\n",
    "            )\n",
    "            cv2.imshow(\"Pose Detection\", image)\n",
    "            cv2.waitKey(0)\n",
    "            cv2.destroyAllWindows()\n",
    "\n",
    "    return key_points\n",
    "\n",
    "def landmarks_to_vector(landmarks, with_visibility=False):\n",
    "    vector = []\n",
    "    for landmark in landmarks:\n",
    "        vector.extend([landmark['x'], landmark['y'], landmark['z']])\n",
    "        if with_visibility:\n",
    "            vector.append(landmark['visibility'])\n",
    "    return np.array(vector)\n",
    "\n",
    "def plot_2d_landmarks(landmarks):\n",
    "    x_coords = [lm['x'] for lm in landmarks]\n",
    "    y_coords = [lm['y'] for lm in landmarks]\n",
    "\n",
    "    plt.figure(figsize=(5, 5))\n",
    "    plt.scatter(x_coords, y_coords, c='blue') \n",
    "    plt.plot(x_coords, y_coords, c='red', alpha=0.5)\n",
    "    plt.gca().invert_yaxis()\n",
    "    plt.title(\"2D Landmarks\")\n",
    "    plt.xlabel(\"X\")\n",
    "    plt.ylabel(\"Y\")\n",
    "    plt.show()\n",
    "\n",
    "def denormalize_landmarks(landmarks, image_width, image_height):\n",
    "    denormalized_landmarks = []\n",
    "    for lm in landmarks:\n",
    "        denormalized_landmarks.append({\n",
    "            'id': lm['id'],\n",
    "            'x': lm['x'] * image_width,\n",
    "            'y': lm['y'] * image_height,\n",
    "            'z': lm['z'],\n",
    "            'visibility': lm['visibility']\n",
    "        })\n",
    "    return denormalized_landmarks"
   ]
  },
  {
   "cell_type": "code",
   "execution_count": 55,
   "metadata": {},
   "outputs": [],
   "source": [
    "keypoints = []\n",
    "\n",
    "for image_path in data_train.iloc[:, 0].values:\n",
    "    keypoints.append(landmarks_to_vector(get_keypoints(image_path=image_path)))"
   ]
  },
  {
   "cell_type": "code",
   "execution_count": null,
   "metadata": {},
   "outputs": [],
   "source": [
    "np.savez('arrays.npz', *keypoints)"
   ]
  },
  {
   "cell_type": "code",
   "execution_count": 69,
   "metadata": {},
   "outputs": [
    {
     "data": {
      "text/plain": [
       "array([ 0.52851665,  0.27551112, -0.11877798,  0.52542889,  0.2541835 ,\n",
       "       -0.11212919,  0.52439618,  0.2526373 , -0.11216315,  0.52344882,\n",
       "        0.25081885, -0.11219803,  0.5256356 ,  0.25525188, -0.13796447,\n",
       "        0.52477622,  0.25459063, -0.13797744,  0.52402717,  0.25363967,\n",
       "       -0.13803226,  0.5121972 ,  0.25159216, -0.0705405 ,  0.51375401,\n",
       "        0.25465125, -0.18778557,  0.52285612,  0.2863062 , -0.09844121,\n",
       "        0.52238733,  0.28730208, -0.13246642,  0.48786968,  0.32106602,\n",
       "        0.0077727 ,  0.49484032,  0.33743665, -0.21864669,  0.48980492,\n",
       "        0.43036258,  0.05195243,  0.5105443 ,  0.46103671, -0.23643973,\n",
       "        0.50353795,  0.52402222,  0.03485499,  0.53305387,  0.56089896,\n",
       "       -0.21687417,  0.50820369,  0.54383689,  0.03457958,  0.53612047,\n",
       "        0.58608347, -0.24354801,  0.51116508,  0.54631215,  0.01578341,\n",
       "        0.53983212,  0.58390272, -0.23680964,  0.50869977,  0.54181886,\n",
       "        0.02554121,  0.53830838,  0.57380819, -0.21396618,  0.48667234,\n",
       "        0.51068258,  0.06626473,  0.49592009,  0.51901329, -0.06642146,\n",
       "        0.51260751,  0.62441885,  0.17813618,  0.51634318,  0.63059747,\n",
       "        0.05226966,  0.50906122,  0.73654211,  0.31881845,  0.50613958,\n",
       "        0.73864806,  0.20205161,  0.50207776,  0.75915563,  0.33162883,\n",
       "        0.49973363,  0.7627089 ,  0.21531233,  0.54078323,  0.75456393,\n",
       "        0.31061235,  0.53242904,  0.75066674,  0.17960663])"
      ]
     },
     "execution_count": 69,
     "metadata": {},
     "output_type": "execute_result"
    }
   ],
   "source": [
    "keypoints[0]"
   ]
  }
 ],
 "metadata": {
  "kernelspec": {
   "display_name": "venv",
   "language": "python",
   "name": "python3"
  },
  "language_info": {
   "codemirror_mode": {
    "name": "ipython",
    "version": 3
   },
   "file_extension": ".py",
   "mimetype": "text/x-python",
   "name": "python",
   "nbconvert_exporter": "python",
   "pygments_lexer": "ipython3",
   "version": "3.12.8"
  }
 },
 "nbformat": 4,
 "nbformat_minor": 2
}
